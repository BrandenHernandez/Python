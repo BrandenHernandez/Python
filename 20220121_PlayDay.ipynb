{
 "cells": [
  {
   "cell_type": "markdown",
   "metadata": {},
   "source": [
    "Velocity Calculator\n",
    "# Steps:\n",
    "\n",
    "- PRINT INSTRUCTIONS AND KEEP UNITS CONSISTANT\n",
    "- PROMPT USER FOR INPUT TRAVELED\n",
    "- PROMPT USER FOR TIME SPENT TRAVELING \n",
    "- COMPUTE AVERAGE VELOCITY BY DIVIDING DISTANCE BY TIME\n",
    "- PRINT A WELL FORMATED STATEMENT DISPLAYING AVERAGE VELOCITY"
   ]
  },
  {
   "cell_type": "code",
   "execution_count": 3,
   "metadata": {},
   "outputs": [
    {
     "name": "stdout",
     "output_type": "stream",
     "text": [
      "Please ensure your units are consistant.\n",
      "How far did you travel? 7\n",
      "How long did it take to travel the distance? .1\n",
      "The average velocity for your journey was 70.0 m/s\n"
     ]
    }
   ],
   "source": [
    "# PRINT INSTRUCTIONS AND KEEP UNITS CONSISTANT\n",
    "print(\"Please ensure your units are consistant.\")\n",
    "# PROMPT USER FOR INPUT TRAVELED\n",
    "d = input(\"How far did you travel? \")\n",
    "# PROMPT USER FOR TIME SPENT TRAVELING \n",
    "t = input(\"How long did it take to travel the distance? \")\n",
    "# CONVERT DATA TYPE TO FLOAT\n",
    "D = float(d)\n",
    "\n",
    "T = float(t)\n",
    "\n",
    "# COMPUTE AVERAGE VELOCITY BY DIVIDING DISTANCE BY TIME\n",
    "v = D/T\n",
    "# PRINT A WELL FORMATED STATEMENT DISPLAYING AVERAGE VELOCITY\n",
    "print(\"The average velocity for your journey was\",v,\"m/s\")"
   ]
  },
  {
   "cell_type": "markdown",
   "metadata": {},
   "source": [
    "Find the mean in a given set\n",
    "# Steps\n",
    "- Define a set\n",
    "- add all data together\n",
    "- Determine the number of terms\n",
    "- Divide sum by number of terms\n",
    "- Print to user"
   ]
  },
  {
   "cell_type": "code",
   "execution_count": 7,
   "metadata": {},
   "outputs": [
    {
     "name": "stdout",
     "output_type": "stream",
     "text": [
      "The mean of the data set is 27.462\n"
     ]
    }
   ],
   "source": [
    "\n",
    "# Define a set\n",
    "xlist = [7,10,42,41,99,27,113,20,-10,0,2,4,2]\n",
    "# add all data together\n",
    "i = sum(xlist)\n",
    "# Determine the number of terms\n",
    "j = len(xlist)\n",
    "# Divide sum by number of terms\n",
    "m = i/j\n",
    "# Print to user\n",
    "print(\"The mean of the data set is\",round(m,3))"
   ]
  }
 ],
 "metadata": {
  "kernelspec": {
   "display_name": "Python 3",
   "language": "python",
   "name": "python3"
  },
  "language_info": {
   "codemirror_mode": {
    "name": "ipython",
    "version": 3
   },
   "file_extension": ".py",
   "mimetype": "text/x-python",
   "name": "python",
   "nbconvert_exporter": "python",
   "pygments_lexer": "ipython3",
   "version": "3.6.6+"
  }
 },
 "nbformat": 4,
 "nbformat_minor": 2
}
